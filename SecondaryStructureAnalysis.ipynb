{
 "cells": [
  {
   "cell_type": "markdown",
   "id": "2715353b-51bd-4559-b108-f554baa8cccf",
   "metadata": {},
   "source": [
    "# Importing secondary structure dataset"
   ]
  },
  {
   "cell_type": "code",
   "execution_count": 1,
   "id": "79c7ed9c-1e65-40ed-9f7d-2eb3afffd70f",
   "metadata": {},
   "outputs": [],
   "source": [
    "import pandas as pd\n",
    "import numpy as np\n",
    "import sklearn as sl\n",
    "import gc\n",
    "import matplotlib.pyplot as plt\n",
    "from sklearn.neural_network import MLPClassifier\n",
    "from sklearn.preprocessing import OneHotEncoder\n",
    "from sklearn.utils.class_weight import compute_class_weight\n",
    "from imblearn.over_sampling import RandomOverSampler\n",
    "import numpy as np\n",
    "import os\n",
    "\n",
    "thresh = 0.65"
   ]
  },
  {
   "cell_type": "code",
   "execution_count": 2,
   "id": "d4c8d6a2-6b19-4d1a-aa98-36ae2d4dc2f2",
   "metadata": {},
   "outputs": [
    {
     "name": "stdout",
     "output_type": "stream",
     "text": [
      "(5365, 39900)\n",
      "(5365, 700, 57)\n"
     ]
    }
   ],
   "source": [
    "data = np.load('cullpdb+profile_5926_filtered.npy.gz', allow_pickle=False)\n",
    "print(data.shape)\n",
    "reshaped = data.reshape(np.shape(data)[0], 700, 57)\n",
    "print(reshaped.shape)"
   ]
  },
  {
   "cell_type": "markdown",
   "id": "a8446fdc-eb19-4b2c-882f-b18915a0f739",
   "metadata": {},
   "source": [
    "# Identifying our desired protein"
   ]
  },
  {
   "cell_type": "code",
   "execution_count": 3,
   "id": "38e8bca5-d37e-4b52-b3ca-3777f379d3d8",
   "metadata": {},
   "outputs": [
    {
     "name": "stdout",
     "output_type": "stream",
     "text": [
      "[9, 2, 13, 8, 18, 0, 2, 10, 8, 12]\n"
     ]
    }
   ],
   "source": [
    "desired_sequence = 'MEPKVAELKQKIEDTLCPFGFEVYPFQVAWYNELLPPAFHLPLPGPTLAFLVLSTPAMFDRALKPFLQSCHLRMLTDPVDQCVAYHLGRVRESLPELQIEIIADYEVHPNRRPKILAQTAAHVAGAAYYYQRQDVEADPWGNQRISGVCIHPRFGGWFAIRGVVLLPGIEVPDLPPRKPHDCVPTRADRIALLEGFNFHWRDWTYRDAVTPQERYSEEQKAYFSTPPAQRLALLGLAQPSEKPSSPSPDLPFTTPAPKKPGNPSRARSWLSPRVSPPASPGP'\n",
    "all_residues = ['A', 'C', 'E', 'D', 'G', 'F', 'I', 'H', 'K', 'M', 'L', 'N', 'Q', 'P', 'S', 'R', 'T', 'W', 'V', 'Y', 'X','']\n",
    "\n",
    "# convert the desired sequence in a sequence of indices\n",
    "sequence_indices = [all_residues.index(residue) for residue in desired_sequence]\n",
    "\n",
    "print(sequence_indices[:10])  # Show first 10 integers\n"
   ]
  },
  {
   "cell_type": "code",
   "execution_count": 4,
   "id": "afa756fc-3f2f-48e3-a147-a5bf0b382c28",
   "metadata": {},
   "outputs": [
    {
     "name": "stdout",
     "output_type": "stream",
     "text": [
      "(5365, 700)\n"
     ]
    }
   ],
   "source": [
    "sequences = []\n",
    "\n",
    "\n",
    "for i in range(np.shape(reshaped)[0]):\n",
    "    temp = reshaped[i,:,:22]\n",
    "    temp = np.argmax(temp, axis = 1)\n",
    "    \n",
    "    sequences_letters = [all_residues[idx] for idx in temp]\n",
    "    sequences.append(sequences_letters)\n",
    "\n",
    "print(np.shape(sequences))"
   ]
  },
  {
   "cell_type": "code",
   "execution_count": 5,
   "id": "d5a316e1-39b3-4b06-bcc6-dcda55256e62",
   "metadata": {},
   "outputs": [
    {
     "name": "stdout",
     "output_type": "stream",
     "text": [
      "(5365,)\n"
     ]
    }
   ],
   "source": [
    "compressed_sequences = [''.join(row) for row in sequences]\n",
    "print(np.shape(compressed_sequences))"
   ]
  },
  {
   "cell_type": "code",
   "execution_count": 6,
   "id": "4256c87e-2cfe-40a1-836f-edefb76d7519",
   "metadata": {},
   "outputs": [
    {
     "name": "stdout",
     "output_type": "stream",
     "text": [
      "MMACHC sequence not found in dataset.\n"
     ]
    }
   ],
   "source": [
    "\n",
    "matches = [i for i, seq in enumerate(compressed_sequences) if desired_sequence in seq]\n",
    "\n",
    "if matches:\n",
    "    print(f\"MMACHC sequence found at index: {matches}\")\n",
    "else:\n",
    "    print(\"MMACHC sequence not found in dataset.\")\n"
   ]
  },
  {
   "cell_type": "markdown",
   "id": "a0d787e4-eb09-4de7-a60c-0cb92aba669c",
   "metadata": {},
   "source": [
    "# Produce MMACHC data\n",
    "Since in CB513 dataset our desired protein was not found, we now want to produce a consistent record with our available dataset"
   ]
  },
  {
   "cell_type": "code",
   "execution_count": 7,
   "id": "3dc7147a-bd2a-4410-8cc0-688fa8170ea5",
   "metadata": {},
   "outputs": [
    {
     "name": "stdout",
     "output_type": "stream",
     "text": [
      "MMACHC array shape: (700, 57)\n"
     ]
    }
   ],
   "source": [
    "import numpy as np\n",
    "from Bio import SeqIO\n",
    "from Bio.PDB import PDBParser, DSSP\n",
    "\n",
    "# --- Constants ---\n",
    "all_residues = ['A','C','E','D','G','F','I','H','K','M','L','N','Q','P','S','R','T','W','V','Y','X']\n",
    "no_seq_idx = 21  # index of 'NoSeq' in features [0–22)\n",
    "secmap = {'L':0, 'B':1, 'E':2, 'G':3, 'I':4, 'H':5, 'S':6, 'T':7}\n",
    "feature_profile_order = list(\"ACDEFGHIKLMNPQRSTVWXY\")\n",
    "\n",
    "# --- 1. Load MMACHC FASTA sequence ---\n",
    "record = SeqIO.read(\"data/protein.faa\", \"fasta\")\n",
    "seq = str(record.seq)\n",
    "L = len(seq)\n",
    "\n",
    "# --- 2. Initialize feature matrix (700 x 57) ---\n",
    "MMACHC = np.zeros((700, 57), dtype=float)\n",
    "\n",
    "# --- 3. One-hot encode residues [0:22] ---\n",
    "for j, aa in enumerate(seq):\n",
    "    idx = all_residues.index(aa) if aa in all_residues else no_seq_idx\n",
    "    MMACHC[j, idx] = 1\n",
    "\n",
    "# --- 4. DSSP secondary structure [22:31] and solvent accessibility [33:35] ---\n",
    "parser = PDBParser(QUIET=True)\n",
    "structure = parser.get_structure(\"MMACHC\", \"data/3sc0.pdb\")\n",
    "model = structure[0]\n",
    "chain = list(model.get_chains())[0]  # assumes single chain\n",
    "dssp = DSSP(model, \"data/3sc0.pdb\")\n",
    "\n",
    "# Get maximum RSA (relative solvent accessibility) for normalization\n",
    "max_rsa = max([d[3] for d in dssp.property_dict.values() if d[3] is not None] + [1])  # avoid div by 0\n",
    "\n",
    "for i, ((chain_id, res_id), dssp_data) in enumerate(dssp.property_dict.items()):\n",
    "    if i >= L:\n",
    "        break\n",
    "    # Secondary structure\n",
    "    ss = dssp_data[2]\n",
    "    ss_idx = secmap.get(ss, 8)  # 'NoSeq' index if not found\n",
    "    MMACHC[i, 22 + ss_idx] = 1\n",
    "\n",
    "    # Solvent accessibility\n",
    "    abs_acc = dssp_data[3]\n",
    "    rel_acc = abs_acc / max_rsa if max_rsa > 0 else 0\n",
    "    MMACHC[i, 33] = 1 if abs_acc <= 15 else 0\n",
    "    MMACHC[i, 34] = 1 if rel_acc > 0.15 else 0\n",
    "\n",
    "# --- 5. N- and C-terminal indicators [31:33] ---\n",
    "MMACHC[0, 31] = 1\n",
    "MMACHC[L-1, 32] = 1\n",
    "\n",
    "# --- 6. Add PSSM profile [35:56] ---\n",
    "def parse_pssm(pssm_file, L, aa_order):\n",
    "    # Only keep standard 20 amino acids for PSSM\n",
    "    aa_order_20 = [aa for aa in aa_order if aa in \"ACDEFGHIKLMNPQRSTVWY\"]\n",
    "    pssm_matrix = np.zeros((L, 20), dtype=float)\n",
    "    with open(pssm_file, \"r\") as f:\n",
    "        lines = f.readlines()\n",
    "    for i, line in enumerate(lines):\n",
    "        if line.startswith('Last position-specific scoring matrix computed'):\n",
    "            start = i + 2\n",
    "            break\n",
    "    else:\n",
    "        raise ValueError(\"PSSM matrix not found in file.\")\n",
    "    pssm_raw = []\n",
    "    for line in lines[start:]:\n",
    "        parts = line.strip().split()\n",
    "        if len(parts) < 22:\n",
    "            continue\n",
    "        scores = [int(parts[j]) for j in range(2, 22)]\n",
    "        pssm_raw.append(scores)\n",
    "        if len(pssm_raw) >= L:\n",
    "            break\n",
    "    pssm_array = np.array(pssm_raw, dtype=float)\n",
    "    min_score, max_score = pssm_array.min(), pssm_array.max()\n",
    "    if max_score > min_score:\n",
    "        pssm_array = (pssm_array - min_score) / (max_score - min_score)\n",
    "    blast_order = list(\"ACDEFGHIKLMNPQRSTVWY\")\n",
    "    idx_map = [blast_order.index(x) for x in aa_order_20]\n",
    "    pssm_reordered = pssm_array[:, idx_map]\n",
    "    return pssm_reordered\n",
    "\n",
    "pssm_profile = parse_pssm(\"mmachc.pssm\", L, feature_profile_order)\n",
    "MMACHC[:L, 35:55] = pssm_profile\n",
    "\n",
    "print(f\"MMACHC array shape: {MMACHC.shape}\")"
   ]
  },
  {
   "cell_type": "code",
   "execution_count": 8,
   "id": "69d2acdc-67f1-4f02-b756-f87323f4ff68",
   "metadata": {},
   "outputs": [
    {
     "data": {
      "text/plain": [
       "array([0.    , 0.    , 0.    , 0.    , 0.    , 0.    , 0.    , 0.    ,\n",
       "       0.    , 0.    , 0.    , 0.    , 0.    , 1.    , 0.    , 0.    ,\n",
       "       0.    , 0.    , 0.    , 0.    , 0.    , 0.    , 0.    , 0.    ,\n",
       "       0.    , 0.    , 0.    , 0.    , 0.    , 0.    , 0.    , 0.    ,\n",
       "       1.    , 0.    , 0.    , 0.25  , 0.1875, 0.1875, 0.1875, 0.125 ,\n",
       "       0.25  , 0.25  , 0.1875, 0.1875, 0.125 , 0.125 , 0.25  , 0.125 ,\n",
       "       0.0625, 0.8125, 0.25  , 0.25  , 0.0625, 0.125 , 0.1875, 0.    ,\n",
       "       0.    ])"
      ]
     },
     "execution_count": 8,
     "metadata": {},
     "output_type": "execute_result"
    }
   ],
   "source": [
    "MMACHC[281]"
   ]
  },
  {
   "cell_type": "code",
   "execution_count": 9,
   "id": "7703853d-020b-4a7c-87c5-c9136a3cab0f",
   "metadata": {},
   "outputs": [
    {
     "data": {
      "text/plain": [
       "(5365, 700, 57)"
      ]
     },
     "execution_count": 9,
     "metadata": {},
     "output_type": "execute_result"
    }
   ],
   "source": [
    "reshaped.shape"
   ]
  },
  {
   "cell_type": "code",
   "execution_count": 10,
   "id": "3797647c-666d-48ac-8393-25ba77a85b64",
   "metadata": {},
   "outputs": [],
   "source": [
    "# extra training points\n",
    "def augment_point_with_noise(point, n_samples, noise_range=(-0.001, 0.001)):\n",
    "    \n",
    "    point = np.array(point)\n",
    "    augmented = np.tile(point, (n_samples, 1))  # replicate original\n",
    "\n",
    "    # Replace noise columns with uniform random values each sample\n",
    "    noise_min, noise_max = noise_range\n",
    "    noise_shape = (n_samples, 20)  # cols 36 to 55 inclusive: 20 columns total\n",
    "    random_noise = np.random.uniform(noise_min, noise_max, size=noise_shape)\n",
    "    augmented[:, 36:56] = random_noise\n",
    "\n",
    "    augmented[augmented > 1] = 1\n",
    "    augmented[augmented < 0] = 0\n",
    "    \n",
    "    return augmented"
   ]
  },
  {
   "cell_type": "code",
   "execution_count": 11,
   "id": "966747b3-388b-47b2-a329-38742ea5177a",
   "metadata": {},
   "outputs": [
    {
     "name": "stdout",
     "output_type": "stream",
     "text": [
      "(197, 282, 57)\n"
     ]
    }
   ],
   "source": [
    "n_samples = np.random.randint(low=100, high=200)\n",
    "mask = np.where(MMACHC[:,48] != 0)[0]  # note the [0] to get indices\n",
    "\n",
    "to_aug = MMACHC[mask, :]  # shape (num_rows, features)\n",
    "num_rows, num_features = to_aug.shape\n",
    "\n",
    "extra_points = np.zeros((n_samples, num_rows, num_features))\n",
    "\n",
    "for i in range(n_samples):\n",
    "    for j in range(num_rows):\n",
    "        augmented = augment_point_with_noise(to_aug[j,:], n_samples=1)  # shape (1, features)\n",
    "        extra_points[i, j, :] = augmented[0]  # get 1D array from result\n",
    "\n",
    "print(extra_points.shape)  # (n_samples, num_rows, num_features)\n"
   ]
  },
  {
   "cell_type": "code",
   "execution_count": 12,
   "id": "22bc7d28-b79d-42ef-9a4e-3cb81131d634",
   "metadata": {},
   "outputs": [],
   "source": [
    "\n",
    "rows = []\n",
    "\n",
    "for i in (range(np.shape(extra_points)[0])):\n",
    "    prot_id = i + 1032\n",
    "    for j in (range(np.shape(extra_points)[1])):\n",
    "        row = extra_points[i,j,:] # taking all the features\n",
    "        rows.append({\n",
    "            'prot_id': i, \n",
    "            **{f'feat_{k}': row[k] for k in range(np.shape(extra_points)[2])}\n",
    "        })\n",
    "\n",
    "df_extra = pd.DataFrame(rows)\n"
   ]
  },
  {
   "cell_type": "markdown",
   "id": "ee710331-d13b-4afb-979a-2d4db5974a12",
   "metadata": {},
   "source": [
    "# Compute cosine similarity with MMACHC"
   ]
  },
  {
   "cell_type": "code",
   "execution_count": 13,
   "id": "964038b0-636b-40a6-8ce2-1106775c9e77",
   "metadata": {},
   "outputs": [],
   "source": [
    "def pssm_similarity(pssm1, pssm2):\n",
    "    p1 = pssm1.flatten()\n",
    "    p2 = pssm2.flatten()\n",
    "    return np.corrcoef(p1, p2)[0, 1]"
   ]
  },
  {
   "cell_type": "code",
   "execution_count": 14,
   "id": "1c97bddf-3848-40d1-8e0d-693b8cc40388",
   "metadata": {},
   "outputs": [
    {
     "name": "stdout",
     "output_type": "stream",
     "text": [
      "(5365, 700, 57)\n",
      "(1000, 700, 57)\n"
     ]
    }
   ],
   "source": [
    "# target\n",
    "print(np.shape(reshaped))\n",
    "MMACHC_pssm = MMACHC.flatten() \n",
    "similarities = np.zeros(np.shape(reshaped)[0])\n",
    "for i in range(np.shape(reshaped)[0]):\n",
    "    pssm = reshaped[i,:,:].flatten()\n",
    "    similarities[i] = np.corrcoef(MMACHC_pssm, pssm)[0, 1]\n",
    "\n",
    "\n",
    "kept_indices = np.where(abs(similarities) > max(similarities) * thresh)[0]\n",
    "\n",
    "reshaped = reshaped[kept_indices,:,:]\n",
    "print(np.shape(reshaped))"
   ]
  },
  {
   "cell_type": "markdown",
   "id": "36898f14-6613-4d73-8dc3-e709b50ac7ba",
   "metadata": {},
   "source": [
    "# Preparing the data"
   ]
  },
  {
   "cell_type": "code",
   "execution_count": 15,
   "id": "ac3e76d6-952e-40fe-9a41-856354109e3c",
   "metadata": {},
   "outputs": [
    {
     "name": "stdout",
     "output_type": "stream",
     "text": [
      "(700000, 57) is shape before filtering\n",
      "(700000, 57) is shape after augmenting\n",
      "(645605, 55) is shape after filtering\n"
     ]
    },
    {
     "data": {
      "text/html": [
       "<div>\n",
       "<style scoped>\n",
       "    .dataframe tbody tr th:only-of-type {\n",
       "        vertical-align: middle;\n",
       "    }\n",
       "\n",
       "    .dataframe tbody tr th {\n",
       "        vertical-align: top;\n",
       "    }\n",
       "\n",
       "    .dataframe thead th {\n",
       "        text-align: right;\n",
       "    }\n",
       "</style>\n",
       "<table border=\"1\" class=\"dataframe\">\n",
       "  <thead>\n",
       "    <tr style=\"text-align: right;\">\n",
       "      <th></th>\n",
       "      <th>prot_id</th>\n",
       "      <th>A</th>\n",
       "      <th>C</th>\n",
       "      <th>E</th>\n",
       "      <th>D</th>\n",
       "      <th>G</th>\n",
       "      <th>F</th>\n",
       "      <th>I</th>\n",
       "      <th>H</th>\n",
       "      <th>K</th>\n",
       "      <th>...</th>\n",
       "      <th>feat_47</th>\n",
       "      <th>feat_48</th>\n",
       "      <th>feat_49</th>\n",
       "      <th>feat_50</th>\n",
       "      <th>feat_51</th>\n",
       "      <th>feat_52</th>\n",
       "      <th>feat_53</th>\n",
       "      <th>feat_54</th>\n",
       "      <th>feat_55</th>\n",
       "      <th>feat_56</th>\n",
       "    </tr>\n",
       "  </thead>\n",
       "  <tbody>\n",
       "    <tr>\n",
       "      <th>4</th>\n",
       "      <td>0</td>\n",
       "      <td>0.0</td>\n",
       "      <td>0.0</td>\n",
       "      <td>0.0</td>\n",
       "      <td>0.0</td>\n",
       "      <td>0.0</td>\n",
       "      <td>0.0</td>\n",
       "      <td>0.0</td>\n",
       "      <td>0.0</td>\n",
       "      <td>0.0</td>\n",
       "      <td>...</td>\n",
       "      <td>0.083938</td>\n",
       "      <td>0.126751</td>\n",
       "      <td>0.073101</td>\n",
       "      <td>0.922012</td>\n",
       "      <td>0.981476</td>\n",
       "      <td>0.176535</td>\n",
       "      <td>0.018343</td>\n",
       "      <td>0.500000</td>\n",
       "      <td>0.039166</td>\n",
       "      <td>0.0</td>\n",
       "    </tr>\n",
       "    <tr>\n",
       "      <th>5</th>\n",
       "      <td>0</td>\n",
       "      <td>0.0</td>\n",
       "      <td>0.0</td>\n",
       "      <td>0.0</td>\n",
       "      <td>0.0</td>\n",
       "      <td>0.0</td>\n",
       "      <td>0.0</td>\n",
       "      <td>0.0</td>\n",
       "      <td>0.0</td>\n",
       "      <td>0.0</td>\n",
       "      <td>...</td>\n",
       "      <td>0.025831</td>\n",
       "      <td>0.030472</td>\n",
       "      <td>0.020036</td>\n",
       "      <td>0.086274</td>\n",
       "      <td>0.361237</td>\n",
       "      <td>0.995679</td>\n",
       "      <td>0.012128</td>\n",
       "      <td>0.268941</td>\n",
       "      <td>0.050211</td>\n",
       "      <td>0.0</td>\n",
       "    </tr>\n",
       "    <tr>\n",
       "      <th>6</th>\n",
       "      <td>0</td>\n",
       "      <td>0.0</td>\n",
       "      <td>0.0</td>\n",
       "      <td>0.0</td>\n",
       "      <td>0.0</td>\n",
       "      <td>0.0</td>\n",
       "      <td>0.0</td>\n",
       "      <td>0.0</td>\n",
       "      <td>0.0</td>\n",
       "      <td>0.0</td>\n",
       "      <td>...</td>\n",
       "      <td>0.005325</td>\n",
       "      <td>0.021881</td>\n",
       "      <td>0.015828</td>\n",
       "      <td>0.081660</td>\n",
       "      <td>0.020233</td>\n",
       "      <td>0.023203</td>\n",
       "      <td>0.428004</td>\n",
       "      <td>0.268941</td>\n",
       "      <td>0.999875</td>\n",
       "      <td>0.0</td>\n",
       "    </tr>\n",
       "    <tr>\n",
       "      <th>8</th>\n",
       "      <td>0</td>\n",
       "      <td>1.0</td>\n",
       "      <td>0.0</td>\n",
       "      <td>0.0</td>\n",
       "      <td>0.0</td>\n",
       "      <td>0.0</td>\n",
       "      <td>0.0</td>\n",
       "      <td>0.0</td>\n",
       "      <td>0.0</td>\n",
       "      <td>0.0</td>\n",
       "      <td>...</td>\n",
       "      <td>0.977246</td>\n",
       "      <td>0.060654</td>\n",
       "      <td>0.031371</td>\n",
       "      <td>0.396517</td>\n",
       "      <td>0.119203</td>\n",
       "      <td>0.085489</td>\n",
       "      <td>0.009013</td>\n",
       "      <td>0.500000</td>\n",
       "      <td>0.019840</td>\n",
       "      <td>0.0</td>\n",
       "    </tr>\n",
       "    <tr>\n",
       "      <th>10</th>\n",
       "      <td>0</td>\n",
       "      <td>0.0</td>\n",
       "      <td>0.0</td>\n",
       "      <td>0.0</td>\n",
       "      <td>0.0</td>\n",
       "      <td>0.0</td>\n",
       "      <td>0.0</td>\n",
       "      <td>0.0</td>\n",
       "      <td>0.0</td>\n",
       "      <td>0.0</td>\n",
       "      <td>...</td>\n",
       "      <td>0.352059</td>\n",
       "      <td>0.999629</td>\n",
       "      <td>0.220974</td>\n",
       "      <td>0.217550</td>\n",
       "      <td>0.166589</td>\n",
       "      <td>0.012869</td>\n",
       "      <td>0.012370</td>\n",
       "      <td>0.268941</td>\n",
       "      <td>0.022533</td>\n",
       "      <td>0.0</td>\n",
       "    </tr>\n",
       "    <tr>\n",
       "      <th>...</th>\n",
       "      <td>...</td>\n",
       "      <td>...</td>\n",
       "      <td>...</td>\n",
       "      <td>...</td>\n",
       "      <td>...</td>\n",
       "      <td>...</td>\n",
       "      <td>...</td>\n",
       "      <td>...</td>\n",
       "      <td>...</td>\n",
       "      <td>...</td>\n",
       "      <td>...</td>\n",
       "      <td>...</td>\n",
       "      <td>...</td>\n",
       "      <td>...</td>\n",
       "      <td>...</td>\n",
       "      <td>...</td>\n",
       "      <td>...</td>\n",
       "      <td>...</td>\n",
       "      <td>...</td>\n",
       "      <td>...</td>\n",
       "      <td>...</td>\n",
       "    </tr>\n",
       "    <tr>\n",
       "      <th>699995</th>\n",
       "      <td>999</td>\n",
       "      <td>0.0</td>\n",
       "      <td>0.0</td>\n",
       "      <td>0.0</td>\n",
       "      <td>0.0</td>\n",
       "      <td>0.0</td>\n",
       "      <td>0.0</td>\n",
       "      <td>0.0</td>\n",
       "      <td>0.0</td>\n",
       "      <td>0.0</td>\n",
       "      <td>...</td>\n",
       "      <td>0.000000</td>\n",
       "      <td>0.000000</td>\n",
       "      <td>0.000000</td>\n",
       "      <td>0.000000</td>\n",
       "      <td>0.000000</td>\n",
       "      <td>0.000000</td>\n",
       "      <td>0.000000</td>\n",
       "      <td>0.000000</td>\n",
       "      <td>0.000000</td>\n",
       "      <td>1.0</td>\n",
       "    </tr>\n",
       "    <tr>\n",
       "      <th>699996</th>\n",
       "      <td>999</td>\n",
       "      <td>0.0</td>\n",
       "      <td>0.0</td>\n",
       "      <td>0.0</td>\n",
       "      <td>0.0</td>\n",
       "      <td>0.0</td>\n",
       "      <td>0.0</td>\n",
       "      <td>0.0</td>\n",
       "      <td>0.0</td>\n",
       "      <td>0.0</td>\n",
       "      <td>...</td>\n",
       "      <td>0.000000</td>\n",
       "      <td>0.000000</td>\n",
       "      <td>0.000000</td>\n",
       "      <td>0.000000</td>\n",
       "      <td>0.000000</td>\n",
       "      <td>0.000000</td>\n",
       "      <td>0.000000</td>\n",
       "      <td>0.000000</td>\n",
       "      <td>0.000000</td>\n",
       "      <td>1.0</td>\n",
       "    </tr>\n",
       "    <tr>\n",
       "      <th>699997</th>\n",
       "      <td>999</td>\n",
       "      <td>0.0</td>\n",
       "      <td>0.0</td>\n",
       "      <td>0.0</td>\n",
       "      <td>0.0</td>\n",
       "      <td>0.0</td>\n",
       "      <td>0.0</td>\n",
       "      <td>0.0</td>\n",
       "      <td>0.0</td>\n",
       "      <td>0.0</td>\n",
       "      <td>...</td>\n",
       "      <td>0.000000</td>\n",
       "      <td>0.000000</td>\n",
       "      <td>0.000000</td>\n",
       "      <td>0.000000</td>\n",
       "      <td>0.000000</td>\n",
       "      <td>0.000000</td>\n",
       "      <td>0.000000</td>\n",
       "      <td>0.000000</td>\n",
       "      <td>0.000000</td>\n",
       "      <td>1.0</td>\n",
       "    </tr>\n",
       "    <tr>\n",
       "      <th>699998</th>\n",
       "      <td>999</td>\n",
       "      <td>0.0</td>\n",
       "      <td>0.0</td>\n",
       "      <td>0.0</td>\n",
       "      <td>0.0</td>\n",
       "      <td>0.0</td>\n",
       "      <td>0.0</td>\n",
       "      <td>0.0</td>\n",
       "      <td>0.0</td>\n",
       "      <td>0.0</td>\n",
       "      <td>...</td>\n",
       "      <td>0.000000</td>\n",
       "      <td>0.000000</td>\n",
       "      <td>0.000000</td>\n",
       "      <td>0.000000</td>\n",
       "      <td>0.000000</td>\n",
       "      <td>0.000000</td>\n",
       "      <td>0.000000</td>\n",
       "      <td>0.000000</td>\n",
       "      <td>0.000000</td>\n",
       "      <td>1.0</td>\n",
       "    </tr>\n",
       "    <tr>\n",
       "      <th>699999</th>\n",
       "      <td>999</td>\n",
       "      <td>0.0</td>\n",
       "      <td>0.0</td>\n",
       "      <td>0.0</td>\n",
       "      <td>0.0</td>\n",
       "      <td>0.0</td>\n",
       "      <td>0.0</td>\n",
       "      <td>0.0</td>\n",
       "      <td>0.0</td>\n",
       "      <td>0.0</td>\n",
       "      <td>...</td>\n",
       "      <td>0.000000</td>\n",
       "      <td>0.000000</td>\n",
       "      <td>0.000000</td>\n",
       "      <td>0.000000</td>\n",
       "      <td>0.000000</td>\n",
       "      <td>0.000000</td>\n",
       "      <td>0.000000</td>\n",
       "      <td>0.000000</td>\n",
       "      <td>0.000000</td>\n",
       "      <td>1.0</td>\n",
       "    </tr>\n",
       "  </tbody>\n",
       "</table>\n",
       "<p>645605 rows × 55 columns</p>\n",
       "</div>"
      ],
      "text/plain": [
       "        prot_id    A    C    E    D    G    F    I    H    K  ...   feat_47  \\\n",
       "4             0  0.0  0.0  0.0  0.0  0.0  0.0  0.0  0.0  0.0  ...  0.083938   \n",
       "5             0  0.0  0.0  0.0  0.0  0.0  0.0  0.0  0.0  0.0  ...  0.025831   \n",
       "6             0  0.0  0.0  0.0  0.0  0.0  0.0  0.0  0.0  0.0  ...  0.005325   \n",
       "8             0  1.0  0.0  0.0  0.0  0.0  0.0  0.0  0.0  0.0  ...  0.977246   \n",
       "10            0  0.0  0.0  0.0  0.0  0.0  0.0  0.0  0.0  0.0  ...  0.352059   \n",
       "...         ...  ...  ...  ...  ...  ...  ...  ...  ...  ...  ...       ...   \n",
       "699995      999  0.0  0.0  0.0  0.0  0.0  0.0  0.0  0.0  0.0  ...  0.000000   \n",
       "699996      999  0.0  0.0  0.0  0.0  0.0  0.0  0.0  0.0  0.0  ...  0.000000   \n",
       "699997      999  0.0  0.0  0.0  0.0  0.0  0.0  0.0  0.0  0.0  ...  0.000000   \n",
       "699998      999  0.0  0.0  0.0  0.0  0.0  0.0  0.0  0.0  0.0  ...  0.000000   \n",
       "699999      999  0.0  0.0  0.0  0.0  0.0  0.0  0.0  0.0  0.0  ...  0.000000   \n",
       "\n",
       "         feat_48   feat_49   feat_50   feat_51   feat_52   feat_53   feat_54  \\\n",
       "4       0.126751  0.073101  0.922012  0.981476  0.176535  0.018343  0.500000   \n",
       "5       0.030472  0.020036  0.086274  0.361237  0.995679  0.012128  0.268941   \n",
       "6       0.021881  0.015828  0.081660  0.020233  0.023203  0.428004  0.268941   \n",
       "8       0.060654  0.031371  0.396517  0.119203  0.085489  0.009013  0.500000   \n",
       "10      0.999629  0.220974  0.217550  0.166589  0.012869  0.012370  0.268941   \n",
       "...          ...       ...       ...       ...       ...       ...       ...   \n",
       "699995  0.000000  0.000000  0.000000  0.000000  0.000000  0.000000  0.000000   \n",
       "699996  0.000000  0.000000  0.000000  0.000000  0.000000  0.000000  0.000000   \n",
       "699997  0.000000  0.000000  0.000000  0.000000  0.000000  0.000000  0.000000   \n",
       "699998  0.000000  0.000000  0.000000  0.000000  0.000000  0.000000  0.000000   \n",
       "699999  0.000000  0.000000  0.000000  0.000000  0.000000  0.000000  0.000000   \n",
       "\n",
       "         feat_55  feat_56  \n",
       "4       0.039166      0.0  \n",
       "5       0.050211      0.0  \n",
       "6       0.999875      0.0  \n",
       "8       0.019840      0.0  \n",
       "10      0.022533      0.0  \n",
       "...          ...      ...  \n",
       "699995  0.000000      1.0  \n",
       "699996  0.000000      1.0  \n",
       "699997  0.000000      1.0  \n",
       "699998  0.000000      1.0  \n",
       "699999  0.000000      1.0  \n",
       "\n",
       "[645605 rows x 55 columns]"
      ]
     },
     "execution_count": 15,
     "metadata": {},
     "output_type": "execute_result"
    }
   ],
   "source": [
    "# proteins univoque ids\n",
    "rows = []\n",
    "\n",
    "kept_set = set(kept_indices)\n",
    "for i in range(reshaped.shape[0]):\n",
    "    for j in (range(np.shape(reshaped)[1])):\n",
    "        row = reshaped[i,j,:] # taking all the features\n",
    "        rows.append({\n",
    "            'prot_id': i, \n",
    "            **{f'feat_{k}': row[k] for k in range(np.shape(reshaped)[2])}\n",
    "        })\n",
    "\n",
    "df = pd.DataFrame(rows)\n",
    "\n",
    "df = df.drop(columns = 'feat_21')\n",
    "print(df.shape,'is shape before filtering')\n",
    "\n",
    "#df = pd.concat([df,df_extra], ignore_index = True)\n",
    "print(df.shape,'is shape after augmenting')\n",
    "\n",
    "\n",
    "# renaming columns\n",
    "all_residues = ['A','C','E','D','G','F','I','H','K','M','L','N','Q','P','S','R','T','W','V','Y','X','NoSeq']\n",
    "all_structures = ['L', 'B', 'E', 'G', 'I', 'H', 'S', 'T', 'NoSeqS']\n",
    "df.rename(columns={df.columns[i]: all_residues[i-1] for i in range(1, 23)}, inplace=True)\n",
    "df.rename(columns={df.columns[i]: all_structures[i-23] for i in range(23, 32)}, inplace=True)\n",
    "\n",
    "# drop columns where NoSeq is 1\n",
    "mask = np.where(df['NoSeq'] == 0)[0]\n",
    "df = df.iloc[mask]\n",
    "df = df.drop(columns = ['NoSeq','NoSeqS']) # no need to keep these col\n",
    "print(df.shape,'is shape after filtering')\n",
    "df"
   ]
  },
  {
   "cell_type": "code",
   "execution_count": 16,
   "id": "b7550b85-54fe-49a7-990c-bbae5463bec2",
   "metadata": {},
   "outputs": [
    {
     "name": "stdout",
     "output_type": "stream",
     "text": [
      "1.0\n",
      "1.0\n",
      "Features X: (645605, 21)\n",
      "Labels Y (before converting): (645605, 8)\n",
      "Extra features X_2: (645605, 21)\n"
     ]
    }
   ],
   "source": [
    "# features are first 20 columns (+1 of protein id), labels the last 8  \n",
    "# extra features are from col 30 onwards (remove the last one since is empty)\n",
    "X = df.values[:,:21]\n",
    "Y = df.values[:,22:30]\n",
    "X_2 = df.values[:,30:51]\n",
    "\n",
    "# fraction of points in test size\n",
    "frac = 0.2\n",
    "prot_indices = np.arange(np.shape(reshaped)[0])\n",
    "np.random.shuffle(prot_indices)\n",
    "val_proteins = prot_indices[:int(frac * len(prot_indices))]\n",
    "train_proteins = prot_indices[int(frac * len(prot_indices)):]\n",
    "\n",
    "mask_train = np.isin(X[:,0], train_proteins)\n",
    "mask_val = np.isin(X[:,0], val_proteins)\n",
    "\n",
    "X_train = X[mask_train]\n",
    "Y_train = Y[mask_train]\n",
    "print(Y_train.sum(axis = 1).mean(axis = 0))\n",
    "Y_train = np.argmax(Y_train, axis = 1) # convert to classes\n",
    "#X_train = X_train[:,1:] # remove first column (useless now)\n",
    "\n",
    "X_val = X[mask_val]\n",
    "Y_val = Y[mask_val]\n",
    "print(Y_val.sum(axis = 1).mean(axis = 0))\n",
    "Y_val = np.argmax(Y_val, axis = 1) # convert to classes\n",
    "#X_val = X_val[:,1:] # remove first column (useless now)\n",
    "print('Features X:',np.shape(X))\n",
    "print('Labels Y (before converting):',np.shape(Y))\n",
    "print('Extra features X_2:',np.shape(X_2))"
   ]
  },
  {
   "cell_type": "code",
   "execution_count": 17,
   "id": "78218a31-ab9b-4cf5-a7e9-7d768791c1f8",
   "metadata": {},
   "outputs": [
    {
     "name": "stdout",
     "output_type": "stream",
     "text": [
      "Classes\t\t\t\t    ['L', 'B', 'E', 'G', 'I', 'H', 'S', 'T']\n",
      "counts of classes in train set (%): [ 0.4  9.4  1.9  0.  16.1  3.7  5.  63.5]\n",
      "counts of classes in valid set (%): [ 0.4  9.7  1.7  0.  15.   3.8  5.  64.4]\n",
      "\n",
      "Unique contents of Y: [0 1 2]\n",
      "Classes:\t\t\t [0 1 2]\n",
      "Occurrences train+valid (%): [19.58147784 11.27624476 69.1422774 ]\n"
     ]
    }
   ],
   "source": [
    "classes = ['L', 'B', 'E', 'G', 'I', 'H', 'S', 'T']\n",
    "print(f'Classes\\t\\t\\t\\t   ',classes)\n",
    "print('counts of classes in train set (%):',(np.unique(Y_train, return_counts = True)[1]/sum(np.unique(Y_train, return_counts = True)[1])).round(3)*100)\n",
    "print('counts of classes in valid set (%):',(np.unique(Y_val, return_counts = True)[1]/sum(np.unique(Y_val, return_counts = True)[1])).round(3)*100)\n",
    "# convert Y in multiclass\n",
    "Y = np.argmax(Y, axis = 1)\n",
    "# convert to 3 class\n",
    "# Define mapping from 8-class DSSP indices to Q3: H=0, E=1, C=2\n",
    "dssp8_to_q3 = {\n",
    "    5: 0,  # H\n",
    "    3: 0,  # G\n",
    "    4: 0,  # I\n",
    "    2: 1,  # E\n",
    "    1: 1,  # B\n",
    "    0: 2,  # L\n",
    "    6: 2,  # S\n",
    "    7: 2   # T\n",
    "}\n",
    "classes = ['H','E','C']\n",
    "Y_q3 = np.vectorize(dssp8_to_q3.get)(Y)\n",
    "Y = Y_q3\n",
    "print(f'\\nUnique contents of Y:',np.unique(Y_q3))\n",
    "# occurrences\n",
    "clas, counts = np.unique(Y, return_counts = True)\n",
    "counts = counts / sum(counts) * 100\n",
    "print(f\"Classes:\\t\\t\\t {clas}\")\n",
    "print(f\"Occurrences train+valid (%): {counts}\")"
   ]
  },
  {
   "cell_type": "code",
   "execution_count": 18,
   "id": "2de05153-90f9-4ab4-86cc-88e6c509cf1b",
   "metadata": {},
   "outputs": [
    {
     "name": "stdout",
     "output_type": "stream",
     "text": [
      "X_final: (645605, 42)\n"
     ]
    }
   ],
   "source": [
    "# merge X and X_2 to make a unique X set\n",
    "final_X = np.hstack((X,X_2))\n",
    "print('X_final:',np.shape(final_X))\n",
    "X = final_X"
   ]
  },
  {
   "cell_type": "code",
   "execution_count": 19,
   "id": "e2f08ab9-673d-42bb-a912-fb48449ae869",
   "metadata": {},
   "outputs": [
    {
     "data": {
      "text/plain": [
       "0"
      ]
     },
     "execution_count": 19,
     "metadata": {},
     "output_type": "execute_result"
    }
   ],
   "source": [
    "gc.collect()"
   ]
  },
  {
   "cell_type": "markdown",
   "id": "3ea989d8-4a23-4ae9-b53b-09fd5f7d9b6f",
   "metadata": {},
   "source": [
    "## Preparing test set (MMACHC)"
   ]
  },
  {
   "cell_type": "code",
   "execution_count": 20,
   "id": "c1449625-b563-4073-a353-01f5165f900c",
   "metadata": {},
   "outputs": [
    {
     "name": "stdout",
     "output_type": "stream",
     "text": [
      "(700, 21)\n",
      "X_final_test: (282, 41)\n",
      "Classes:\t\t\t [0 1 2]\n",
      "Percentage of occurrence (%): [37.58865248 17.37588652 45.03546099]\n",
      "(282,)\n"
     ]
    }
   ],
   "source": [
    "# prepare test set\n",
    "X_test = MMACHC[:,:21]\n",
    "print(np.shape(X_test))\n",
    "X_2_test = MMACHC[:,30:50]\n",
    "final_X = np.hstack((X_test,X_2_test))\n",
    "X_test = final_X\n",
    "mask = np.where(final_X[:,37] != 0)[0]\n",
    "X_test = X_test[mask,:]\n",
    "print('X_final_test:',np.shape(X_test))\n",
    "\n",
    "import difflib\n",
    "\n",
    "# labels\n",
    "import json\n",
    "import numpy as np\n",
    "\n",
    "# Load the JSON data from the file\n",
    "with open(\"data/Q9Y4U1.json\", \"r\") as f:\n",
    "    data = json.load(f)\n",
    "\n",
    "# First, identify the overall protein length from the chain feature.\n",
    "# We assume that there is one 'Chain' feature with a start and end.\n",
    "chain_feature = None\n",
    "for feature in data['features']:\n",
    "    if feature.get('type') == \"Chain\":\n",
    "        chain_feature = feature\n",
    "        break\n",
    "\n",
    "if chain_feature is None:\n",
    "    raise ValueError(\"Chain feature with start and end positions not found.\")\n",
    "    \n",
    "start = chain_feature['location']['start']['value']\n",
    "end = chain_feature['location']['end']['value']\n",
    "protein_length = end - start + 1\n",
    "\n",
    "# Create a default numpy array filled with 'C' (for Coil, i.e. undefined structure)\n",
    "ss_array = np.full(protein_length, 'C', dtype='<U1')\n",
    "\n",
    "# Function to update the secondary structure array for a given range and code\n",
    "def assign_structure(feature, code):\n",
    "    loc = feature.get(\"location\", {})\n",
    "    s = loc.get(\"start\", {}).get(\"value\")\n",
    "    e = loc.get(\"end\", {}).get(\"value\")\n",
    "    if s is None or e is None:\n",
    "        return\n",
    "    # Convert residue numbers to 0-index (assuming positions in the file start at 1)\n",
    "    ss_array[s- start : e- start + 1] = code\n",
    "\n",
    "# Process all features that correspond to secondary structure:\n",
    "# We will check for 'Helix', 'Beta strand', and 'Turn'\n",
    "for feature in data['features']:\n",
    "    ft = feature.get(\"type\")\n",
    "    if ft == \"Helix\":\n",
    "        assign_structure(feature, \"H\")\n",
    "    elif ft == \"Beta strand\":\n",
    "        assign_structure(feature, \"E\")\n",
    "    elif ft == \"Turn\":\n",
    "        assign_structure(feature, \"T\")\n",
    "        \n",
    "#print(\"Secondary structure array:\")\n",
    "#print(ss_array)\n",
    "classes = ['H','E','C','T']\n",
    "# convert the desired sequence in a sequence of indices\n",
    "ss_sequence = np.array([classes.index(residue) for residue in ss_array])\n",
    "# remove 3 (T == C)\n",
    "mask = np.where(ss_sequence == 3)[0]\n",
    "ss_sequence[mask] = 2\n",
    "\n",
    "classes_test, class_occurrences_test = np.unique(ss_sequence, return_counts = True)\n",
    "print(f\"Classes:\\t\\t\\t {classes_test}\")\n",
    "class_occurrences_test = class_occurrences_test / sum(class_occurrences_test) * 100\n",
    "print(f\"Percentage of occurrence (%): {class_occurrences_test}\")\n",
    "Y_test = ss_sequence\n",
    "print(np.shape(Y_test))"
   ]
  },
  {
   "cell_type": "code",
   "execution_count": 21,
   "id": "4b8ddc1d-ad83-4218-a104-7632838f9e20",
   "metadata": {},
   "outputs": [],
   "source": [
    "# create sliding windows\n",
    "def apply_sliding_window(X, Y, window_size):\n",
    "    half_w = window_size // 2\n",
    "    prot_ids = np.unique(X[:, 0])\n",
    "    X_windows = []\n",
    "    Y_labels = []\n",
    "\n",
    "    for pid in prot_ids:\n",
    "        prot_mask = X[:, 0] == pid\n",
    "        prot_feats = X[prot_mask][:, 1:]  # remove prot_id\n",
    "        prot_labels = Y[prot_mask]\n",
    "\n",
    "        L = len(prot_feats)\n",
    "        # pad with zeros on both sides\n",
    "        pad = np.zeros((half_w, prot_feats.shape[1]))\n",
    "        padded_feats = np.vstack([pad, prot_feats, pad])\n",
    "\n",
    "        for i in range(L):\n",
    "            window = padded_feats[i:i+window_size].flatten()\n",
    "            label = prot_labels[i]\n",
    "            X_windows.append(window)\n",
    "            Y_labels.append(label)\n",
    "\n",
    "    X_windows = np.array(X_windows)\n",
    "    Y_labels = np.array(Y_labels)\n",
    "    print(\"X_windows shape:\", X_windows.shape)  # Should be (N, window_size * D)\n",
    "    print(\"Y_labels shape:\", Y_labels.shape)    # Should be (N,)\n",
    "    return np.array(X_windows), np.array(Y_labels)\n"
   ]
  },
  {
   "cell_type": "code",
   "execution_count": 22,
   "id": "ac3d5faa-6d42-4363-a02b-9bec6be88b95",
   "metadata": {},
   "outputs": [
    {
     "name": "stdout",
     "output_type": "stream",
     "text": [
      "(645605, 42) (645605,)\n",
      "(282, 41) (282,)\n"
     ]
    }
   ],
   "source": [
    "print(np.shape(X),np.shape(Y))\n",
    "print(np.shape(X_test),np.shape(Y_test))"
   ]
  },
  {
   "cell_type": "markdown",
   "id": "0f18fe7c-6c89-442d-869d-5672f8c87d5a",
   "metadata": {},
   "source": [
    "# Model"
   ]
  },
  {
   "cell_type": "markdown",
   "id": "845feffa-49c0-4336-aff6-7b22ee91243b",
   "metadata": {},
   "source": [
    "### Torch functions"
   ]
  },
  {
   "cell_type": "code",
   "execution_count": 23,
   "id": "f71018f4-59b9-423e-951d-6d6a33e83b2c",
   "metadata": {},
   "outputs": [],
   "source": [
    "import torch\n",
    "from torch.utils.data import Dataset\n",
    "\n",
    "class SlidingWindowProteinDataset(Dataset):\n",
    "    def __init__(self, X, Y, window_size, is_test):\n",
    "        if(is_test == False):\n",
    "            self.samples = []\n",
    "            self.labels = []\n",
    "    \n",
    "            half_w = window_size // 2\n",
    "            prot_ids = np.unique(X[:, 0])\n",
    "    \n",
    "            for pid in prot_ids:\n",
    "                prot_mask = X[:, 0] == pid\n",
    "                prot_feats = X[prot_mask][:, 1:].astype(np.float32)  # exclude prot_id\n",
    "                prot_labels = Y[prot_mask]\n",
    "                L = len(prot_feats)\n",
    "    \n",
    "                # Pad\n",
    "                pad = np.zeros((half_w, prot_feats.shape[1]), dtype=np.float32)\n",
    "                padded_feats = np.vstack([pad, prot_feats, pad])\n",
    "    \n",
    "                for i in range(L):\n",
    "                    window = padded_feats[i:i+window_size]\n",
    "                    label = prot_labels[i]\n",
    "                    self.samples.append(window)\n",
    "                    self.labels.append(label)\n",
    "                    \n",
    "        if(is_test == True):\n",
    "            self.samples = []\n",
    "            self.labels = []\n",
    "    \n",
    "            half_w = window_size // 2\n",
    "    \n",
    "            prot_feats = X[:,:].astype(np.float32)  # exclude prot_id\n",
    "            prot_labels = Y\n",
    "            #print(prot_labels)\n",
    "            L = len(prot_feats)\n",
    "    \n",
    "            # Pad\n",
    "            pad = np.zeros((half_w, prot_feats.shape[1]), dtype=np.float32)\n",
    "            padded_feats = np.vstack([pad, prot_feats, pad])\n",
    "    \n",
    "            for i in range(L):\n",
    "                window = padded_feats[i:i+window_size]\n",
    "                label = prot_labels[i]\n",
    "                self.samples.append(window)\n",
    "                self.labels.append(label)\n",
    "        \n",
    "\n",
    "    def __len__(self):\n",
    "        return len(self.samples)\n",
    "\n",
    "    def __getitem__(self, idx):\n",
    "        x = torch.tensor(self.samples[idx])  # shape: (window_size, feat_dim)\n",
    "        x = x.permute(1, 0)  # shape: (feat_dim, window_size)\n",
    "        y = torch.tensor(self.labels[idx], dtype = torch.long)\n",
    "        return x, y"
   ]
  },
  {
   "cell_type": "code",
   "execution_count": 24,
   "id": "f51f6e5c-b257-4985-a4d5-88a98429f14b",
   "metadata": {},
   "outputs": [],
   "source": [
    "import torch\n",
    "import torch.nn as nn\n",
    "import torch.nn.functional as F\n",
    "\n",
    "class CNNClassifier(nn.Module):\n",
    "    def __init__(self, in_channels, out_classes, conv_filters, hidden_sizes):\n",
    "        super(CNNClassifier, self).__init__()\n",
    "        self.conv1 = nn.Conv1d(in_channels=in_channels, out_channels=conv_filters, kernel_size=3, padding=1)\n",
    "        self.conv2 = nn.Conv1d(in_channels=conv_filters, out_channels=conv_filters, kernel_size=3, padding=1)\n",
    "        self.dropout = nn.Dropout(0.3)\n",
    "        layers = []\n",
    "        input_dim = conv_filters\n",
    "        for h in hidden_sizes:\n",
    "            layers.append(nn.Linear(input_dim, h))\n",
    "            input_dim = h\n",
    "        self.hidden_layers = nn.ModuleList(layers)        \n",
    "        self.fc_out = nn.Linear(input_dim, out_classes)\n",
    "\n",
    "    def forward(self, x):\n",
    "        x = F.relu(self.conv1(x))\n",
    "        x = F.relu(self.conv2(x))\n",
    "        x = self.dropout(x)\n",
    "        x = x.mean(dim=2)\n",
    "        for layer in self.hidden_layers:\n",
    "            x = F.relu(layer(x))\n",
    "        x = self.fc_out(x)\n",
    "        return x"
   ]
  },
  {
   "cell_type": "markdown",
   "id": "d955eb43-b4f2-426e-b38b-06f4a04845a0",
   "metadata": {},
   "source": [
    "# Training loop"
   ]
  },
  {
   "cell_type": "code",
   "execution_count": 25,
   "id": "e97c004d-d07c-4619-9ddf-40c9bce93d40",
   "metadata": {
    "scrolled": true
   },
   "outputs": [
    {
     "name": "stdout",
     "output_type": "stream",
     "text": [
      "Training the model with epochs 20, window sizes 7, hidden layers [128, 64, 32], learning rate 0.001\n"
     ]
    },
    {
     "data": {
      "application/vnd.jupyter.widget-view+json": {
       "model_id": "9641d1849f7f4e3dbd0f16d602eee8df",
       "version_major": 2,
       "version_minor": 0
      },
      "text/plain": [
       "Epoch 1/20:   0%|          | 0/4033 [00:00<?, ?it/s]"
      ]
     },
     "metadata": {},
     "output_type": "display_data"
    },
    {
     "data": {
      "application/vnd.jupyter.widget-view+json": {
       "model_id": "7d0a6c26b4a34054bd72fc3e00de36bb",
       "version_major": 2,
       "version_minor": 0
      },
      "text/plain": [
       "Epoch 2/20:   0%|          | 0/4033 [00:00<?, ?it/s]"
      ]
     },
     "metadata": {},
     "output_type": "display_data"
    },
    {
     "data": {
      "application/vnd.jupyter.widget-view+json": {
       "model_id": "111e12a510bd482994eb3bf6fe76a7b0",
       "version_major": 2,
       "version_minor": 0
      },
      "text/plain": [
       "Epoch 3/20:   0%|          | 0/4033 [00:00<?, ?it/s]"
      ]
     },
     "metadata": {},
     "output_type": "display_data"
    },
    {
     "data": {
      "application/vnd.jupyter.widget-view+json": {
       "model_id": "bf5d911709c741ff9aa1df0dc6330fcd",
       "version_major": 2,
       "version_minor": 0
      },
      "text/plain": [
       "Epoch 4/20:   0%|          | 0/4033 [00:00<?, ?it/s]"
      ]
     },
     "metadata": {},
     "output_type": "display_data"
    },
    {
     "data": {
      "application/vnd.jupyter.widget-view+json": {
       "model_id": "994805122b4848ea842327be691c57a0",
       "version_major": 2,
       "version_minor": 0
      },
      "text/plain": [
       "Epoch 5/20:   0%|          | 0/4033 [00:00<?, ?it/s]"
      ]
     },
     "metadata": {},
     "output_type": "display_data"
    },
    {
     "data": {
      "application/vnd.jupyter.widget-view+json": {
       "model_id": "69ff1431cdd5451f9b04d03c1e8d7769",
       "version_major": 2,
       "version_minor": 0
      },
      "text/plain": [
       "Epoch 6/20:   0%|          | 0/4033 [00:00<?, ?it/s]"
      ]
     },
     "metadata": {},
     "output_type": "display_data"
    },
    {
     "data": {
      "application/vnd.jupyter.widget-view+json": {
       "model_id": "7f6ed4d650dc4c56b413f45d74323dae",
       "version_major": 2,
       "version_minor": 0
      },
      "text/plain": [
       "Epoch 7/20:   0%|          | 0/4033 [00:00<?, ?it/s]"
      ]
     },
     "metadata": {},
     "output_type": "display_data"
    },
    {
     "data": {
      "application/vnd.jupyter.widget-view+json": {
       "model_id": "1edeb633a79d4d8fa6b0a081c89a66a6",
       "version_major": 2,
       "version_minor": 0
      },
      "text/plain": [
       "Epoch 8/20:   0%|          | 0/4033 [00:00<?, ?it/s]"
      ]
     },
     "metadata": {},
     "output_type": "display_data"
    },
    {
     "data": {
      "application/vnd.jupyter.widget-view+json": {
       "model_id": "039abd89d50e41d7ae7de43bad3c757a",
       "version_major": 2,
       "version_minor": 0
      },
      "text/plain": [
       "Epoch 9/20:   0%|          | 0/4033 [00:00<?, ?it/s]"
      ]
     },
     "metadata": {},
     "output_type": "display_data"
    },
    {
     "data": {
      "application/vnd.jupyter.widget-view+json": {
       "model_id": "a6433567bc9b4fa0b3725f584b492679",
       "version_major": 2,
       "version_minor": 0
      },
      "text/plain": [
       "Epoch 10/20:   0%|          | 0/4033 [00:00<?, ?it/s]"
      ]
     },
     "metadata": {},
     "output_type": "display_data"
    },
    {
     "data": {
      "application/vnd.jupyter.widget-view+json": {
       "model_id": "4a7da32226b24c519b9723f241cab03e",
       "version_major": 2,
       "version_minor": 0
      },
      "text/plain": [
       "Epoch 11/20:   0%|          | 0/4033 [00:00<?, ?it/s]"
      ]
     },
     "metadata": {},
     "output_type": "display_data"
    },
    {
     "data": {
      "application/vnd.jupyter.widget-view+json": {
       "model_id": "5cf52e513a7e4d5d8fc00cf0fc121bcf",
       "version_major": 2,
       "version_minor": 0
      },
      "text/plain": [
       "Epoch 12/20:   0%|          | 0/4033 [00:00<?, ?it/s]"
      ]
     },
     "metadata": {},
     "output_type": "display_data"
    },
    {
     "data": {
      "application/vnd.jupyter.widget-view+json": {
       "model_id": "abceedb161aa4621b642cd31544de940",
       "version_major": 2,
       "version_minor": 0
      },
      "text/plain": [
       "Epoch 13/20:   0%|          | 0/4033 [00:00<?, ?it/s]"
      ]
     },
     "metadata": {},
     "output_type": "display_data"
    },
    {
     "data": {
      "application/vnd.jupyter.widget-view+json": {
       "model_id": "51522d7014d6402aac09febef5dc6b68",
       "version_major": 2,
       "version_minor": 0
      },
      "text/plain": [
       "Epoch 14/20:   0%|          | 0/4033 [00:00<?, ?it/s]"
      ]
     },
     "metadata": {},
     "output_type": "display_data"
    },
    {
     "data": {
      "application/vnd.jupyter.widget-view+json": {
       "model_id": "6eacea6d95b642e7844b1a2a743d1fa6",
       "version_major": 2,
       "version_minor": 0
      },
      "text/plain": [
       "Epoch 15/20:   0%|          | 0/4033 [00:00<?, ?it/s]"
      ]
     },
     "metadata": {},
     "output_type": "display_data"
    },
    {
     "data": {
      "application/vnd.jupyter.widget-view+json": {
       "model_id": "373c162c1bdf4d0aa3747193e83c05bd",
       "version_major": 2,
       "version_minor": 0
      },
      "text/plain": [
       "Epoch 16/20:   0%|          | 0/4033 [00:00<?, ?it/s]"
      ]
     },
     "metadata": {},
     "output_type": "display_data"
    },
    {
     "data": {
      "application/vnd.jupyter.widget-view+json": {
       "model_id": "608b00053fd84d00a92c1d3a9abd143e",
       "version_major": 2,
       "version_minor": 0
      },
      "text/plain": [
       "Epoch 17/20:   0%|          | 0/4033 [00:00<?, ?it/s]"
      ]
     },
     "metadata": {},
     "output_type": "display_data"
    },
    {
     "data": {
      "application/vnd.jupyter.widget-view+json": {
       "model_id": "360e1f50910a40aaa6239b00862c9eec",
       "version_major": 2,
       "version_minor": 0
      },
      "text/plain": [
       "Epoch 18/20:   0%|          | 0/4033 [00:00<?, ?it/s]"
      ]
     },
     "metadata": {},
     "output_type": "display_data"
    },
    {
     "data": {
      "application/vnd.jupyter.widget-view+json": {
       "model_id": "908e210306674874b7fc5b9aeef57577",
       "version_major": 2,
       "version_minor": 0
      },
      "text/plain": [
       "Epoch 19/20:   0%|          | 0/4033 [00:00<?, ?it/s]"
      ]
     },
     "metadata": {},
     "output_type": "display_data"
    },
    {
     "data": {
      "application/vnd.jupyter.widget-view+json": {
       "model_id": "64b797e71aea4c2f97cd2ccffd83abf3",
       "version_major": 2,
       "version_minor": 0
      },
      "text/plain": [
       "Epoch 20/20:   0%|          | 0/4033 [00:00<?, ?it/s]"
      ]
     },
     "metadata": {},
     "output_type": "display_data"
    },
    {
     "name": "stdout",
     "output_type": "stream",
     "text": [
      "New best score: 0.899\n"
     ]
    },
    {
     "data": {
      "image/png": "[encoded data removed]",
      "text/plain": [
       "<Figure size 640x480 with 2 Axes>"
      ]
     },
     "metadata": {},
     "output_type": "display_data"
    },
    {
     "name": "stdout",
     "output_type": "stream",
     "text": [
      "Training the model with epochs 20, window sizes 11, hidden layers [128, 64, 32], learning rate 0.001\n"
     ]
    },
    {
     "data": {
      "application/vnd.jupyter.widget-view+json": {
       "model_id": "36acff55fae44057b4ddc23fd0bef5ad",
       "version_major": 2,
       "version_minor": 0
      },
      "text/plain": [
       "Epoch 1/20:   0%|          | 0/4033 [00:00<?, ?it/s]"
      ]
     },
     "metadata": {},
     "output_type": "display_data"
    },
    {
     "data": {
      "application/vnd.jupyter.widget-view+json": {
       "model_id": "7a5a1e70ee494d2281bd5053c67dae5c",
       "version_major": 2,
       "version_minor": 0
      },
      "text/plain": [
       "Epoch 2/20:   0%|          | 0/4033 [00:00<?, ?it/s]"
      ]
     },
     "metadata": {},
     "output_type": "display_data"
    },
    {
     "data": {
      "application/vnd.jupyter.widget-view+json": {
       "model_id": "52b4a7b7c1a140aca1e80689a1ec4bb5",
       "version_major": 2,
       "version_minor": 0
      },
      "text/plain": [
       "Epoch 3/20:   0%|          | 0/4033 [00:00<?, ?it/s]"
      ]
     },
     "metadata": {},
     "output_type": "display_data"
    },
    {
     "data": {
      "application/vnd.jupyter.widget-view+json": {
       "model_id": "fb40d633294f47a1aa182424bc9572ed",
       "version_major": 2,
       "version_minor": 0
      },
      "text/plain": [
       "Epoch 4/20:   0%|          | 0/4033 [00:00<?, ?it/s]"
      ]
     },
     "metadata": {},
     "output_type": "display_data"
    },
    {
     "data": {
      "application/vnd.jupyter.widget-view+json": {
       "model_id": "9ed65863fb9d443ab2d5b915807359d0",
       "version_major": 2,
       "version_minor": 0
      },
      "text/plain": [
       "Epoch 5/20:   0%|          | 0/4033 [00:00<?, ?it/s]"
      ]
     },
     "metadata": {},
     "output_type": "display_data"
    },
    {
     "data": {
      "application/vnd.jupyter.widget-view+json": {
       "model_id": "ef64cd2b79bc4e53994fe18a796b5bff",
       "version_major": 2,
       "version_minor": 0
      },
      "text/plain": [
       "Epoch 6/20:   0%|          | 0/4033 [00:00<?, ?it/s]"
      ]
     },
     "metadata": {},
     "output_type": "display_data"
    },
    {
     "data": {
      "application/vnd.jupyter.widget-view+json": {
       "model_id": "aecbf2110a8441c5834737f92f642a23",
       "version_major": 2,
       "version_minor": 0
      },
      "text/plain": [
       "Epoch 7/20:   0%|          | 0/4033 [00:00<?, ?it/s]"
      ]
     },
     "metadata": {},
     "output_type": "display_data"
    },
    {
     "data": {
      "application/vnd.jupyter.widget-view+json": {
       "model_id": "c3ce2f60444c4a2f8a62c1296c690456",
       "version_major": 2,
       "version_minor": 0
      },
      "text/plain": [
       "Epoch 8/20:   0%|          | 0/4033 [00:00<?, ?it/s]"
      ]
     },
     "metadata": {},
     "output_type": "display_data"
    },
    {
     "data": {
      "application/vnd.jupyter.widget-view+json": {
       "model_id": "7a0d8e0798cf4985b24923d1ad4de42d",
       "version_major": 2,
       "version_minor": 0
      },
      "text/plain": [
       "Epoch 9/20:   0%|          | 0/4033 [00:00<?, ?it/s]"
      ]
     },
     "metadata": {},
     "output_type": "display_data"
    },
    {
     "data": {
      "application/vnd.jupyter.widget-view+json": {
       "model_id": "0f9d8c32a0a542b4ab3704886c332692",
       "version_major": 2,
       "version_minor": 0
      },
      "text/plain": [
       "Epoch 10/20:   0%|          | 0/4033 [00:00<?, ?it/s]"
      ]
     },
     "metadata": {},
     "output_type": "display_data"
    },
    {
     "data": {
      "application/vnd.jupyter.widget-view+json": {
       "model_id": "1734d73dbfcb4d33a4975578b95c6a5b",
       "version_major": 2,
       "version_minor": 0
      },
      "text/plain": [
       "Epoch 11/20:   0%|          | 0/4033 [00:00<?, ?it/s]"
      ]
     },
     "metadata": {},
     "output_type": "display_data"
    },
    {
     "data": {
      "application/vnd.jupyter.widget-view+json": {
       "model_id": "2b858aba90954b9489c5a600dbc1fd90",
       "version_major": 2,
       "version_minor": 0
      },
      "text/plain": [
       "Epoch 12/20:   0%|          | 0/4033 [00:00<?, ?it/s]"
      ]
     },
     "metadata": {},
     "output_type": "display_data"
    },
    {
     "data": {
      "application/vnd.jupyter.widget-view+json": {
       "model_id": "6bd23040a77b4689b10511f2b13d348a",
       "version_major": 2,
       "version_minor": 0
      },
      "text/plain": [
       "Epoch 13/20:   0%|          | 0/4033 [00:00<?, ?it/s]"
      ]
     },
     "metadata": {},
     "output_type": "display_data"
    },
    {
     "data": {
      "application/vnd.jupyter.widget-view+json": {
       "model_id": "dba17fd805ca40b7a3d06cd1bcb11232",
       "version_major": 2,
       "version_minor": 0
      },
      "text/plain": [
       "Epoch 14/20:   0%|          | 0/4033 [00:00<?, ?it/s]"
      ]
     },
     "metadata": {},
     "output_type": "display_data"
    },
    {
     "data": {
      "application/vnd.jupyter.widget-view+json": {
       "model_id": "073478b29605428498604f3cad5bd5ee",
       "version_major": 2,
       "version_minor": 0
      },
      "text/plain": [
       "Epoch 15/20:   0%|          | 0/4033 [00:00<?, ?it/s]"
      ]
     },
     "metadata": {},
     "output_type": "display_data"
    },
    {
     "data": {
      "application/vnd.jupyter.widget-view+json": {
       "model_id": "692bf021ca824ef486a16183a39216d7",
       "version_major": 2,
       "version_minor": 0
      },
      "text/plain": [
       "Epoch 16/20:   0%|          | 0/4033 [00:00<?, ?it/s]"
      ]
     },
     "metadata": {},
     "output_type": "display_data"
    },
    {
     "data": {
      "application/vnd.jupyter.widget-view+json": {
       "model_id": "0f4f098cfa384bcab29baff1e58cdd3e",
       "version_major": 2,
       "version_minor": 0
      },
      "text/plain": [
       "Epoch 17/20:   0%|          | 0/4033 [00:00<?, ?it/s]"
      ]
     },
     "metadata": {},
     "output_type": "display_data"
    },
    {
     "data": {
      "application/vnd.jupyter.widget-view+json": {
       "model_id": "6e0b83fa2e8f4f42b886672ece687021",
       "version_major": 2,
       "version_minor": 0
      },
      "text/plain": [
       "Epoch 18/20:   0%|          | 0/4033 [00:00<?, ?it/s]"
      ]
     },
     "metadata": {},
     "output_type": "display_data"
    },
    {
     "data": {
      "application/vnd.jupyter.widget-view+json": {
       "model_id": "6079199206ef4c06a13080c9eebe283e",
       "version_major": 2,
       "version_minor": 0
      },
      "text/plain": [
       "Epoch 19/20:   0%|          | 0/4033 [00:00<?, ?it/s]"
      ]
     },
     "metadata": {},
     "output_type": "display_data"
    },
    {
     "data": {
      "application/vnd.jupyter.widget-view+json": {
       "model_id": "8a77bd2e523548efa6fe3675b8318d50",
       "version_major": 2,
       "version_minor": 0
      },
      "text/plain": [
       "Epoch 20/20:   0%|          | 0/4033 [00:00<?, ?it/s]"
      ]
     },
     "metadata": {},
     "output_type": "display_data"
    },
    {
     "name": "stdout",
     "output_type": "stream",
     "text": [
      "New best score: 0.903\n"
     ]
    },
    {
     "data": {
      "image/png": "[encoded data removed]",
      "text/plain": [
       "<Figure size 640x480 with 2 Axes>"
      ]
     },
     "metadata": {},
     "output_type": "display_data"
    },
    {
     "name": "stdout",
     "output_type": "stream",
     "text": [
      "Training the model with epochs 20, window sizes 15, hidden layers [128, 64, 32], learning rate 0.001\n"
     ]
    },
    {
     "data": {
      "application/vnd.jupyter.widget-view+json": {
       "model_id": "116be2e8747c432599eb582cc83738af",
       "version_major": 2,
       "version_minor": 0
      },
      "text/plain": [
       "Epoch 1/20:   0%|          | 0/4033 [00:00<?, ?it/s]"
      ]
     },
     "metadata": {},
     "output_type": "display_data"
    },
    {
     "data": {
      "application/vnd.jupyter.widget-view+json": {
       "model_id": "87a25313648445169f789789feeeaf49",
       "version_major": 2,
       "version_minor": 0
      },
      "text/plain": [
       "Epoch 2/20:   0%|          | 0/4033 [00:00<?, ?it/s]"
      ]
     },
     "metadata": {},
     "output_type": "display_data"
    },
    {
     "data": {
      "application/vnd.jupyter.widget-view+json": {
       "model_id": "f2c96e0af1f849b9992e1ac202150f9c",
       "version_major": 2,
       "version_minor": 0
      },
      "text/plain": [
       "Epoch 3/20:   0%|          | 0/4033 [00:00<?, ?it/s]"
      ]
     },
     "metadata": {},
     "output_type": "display_data"
    },
    {
     "data": {
      "application/vnd.jupyter.widget-view+json": {
       "model_id": "cba34528023d4d2b8f2bb6750badf395",
       "version_major": 2,
       "version_minor": 0
      },
      "text/plain": [
       "Epoch 4/20:   0%|          | 0/4033 [00:00<?, ?it/s]"
      ]
     },
     "metadata": {},
     "output_type": "display_data"
    },
    {
     "data": {
      "application/vnd.jupyter.widget-view+json": {
       "model_id": "aaea88ec23eb475e8f5ace7935c0a05f",
       "version_major": 2,
       "version_minor": 0
      },
      "text/plain": [
       "Epoch 5/20:   0%|          | 0/4033 [00:00<?, ?it/s]"
      ]
     },
     "metadata": {},
     "output_type": "display_data"
    },
    {
     "data": {
      "application/vnd.jupyter.widget-view+json": {
       "model_id": "78b0181711e1410bbc39c7399403fde5",
       "version_major": 2,
       "version_minor": 0
      },
      "text/plain": [
       "Epoch 6/20:   0%|          | 0/4033 [00:00<?, ?it/s]"
      ]
     },
     "metadata": {},
     "output_type": "display_data"
    },
    {
     "data": {
      "application/vnd.jupyter.widget-view+json": {
       "model_id": "f416c0a6c42e49b1aab078289c5c52ac",
       "version_major": 2,
       "version_minor": 0
      },
      "text/plain": [
       "Epoch 7/20:   0%|          | 0/4033 [00:00<?, ?it/s]"
      ]
     },
     "metadata": {},
     "output_type": "display_data"
    },
    {
     "data": {
      "application/vnd.jupyter.widget-view+json": {
       "model_id": "b0742f2806d84d9eba0cf05162c26047",
       "version_major": 2,
       "version_minor": 0
      },
      "text/plain": [
       "Epoch 8/20:   0%|          | 0/4033 [00:00<?, ?it/s]"
      ]
     },
     "metadata": {},
     "output_type": "display_data"
    },
    {
     "data": {
      "application/vnd.jupyter.widget-view+json": {
       "model_id": "94824a1020d74b09971c2c0daec6f056",
       "version_major": 2,
       "version_minor": 0
      },
      "text/plain": [
       "Epoch 9/20:   0%|          | 0/4033 [00:00<?, ?it/s]"
      ]
     },
     "metadata": {},
     "output_type": "display_data"
    },
    {
     "data": {
      "application/vnd.jupyter.widget-view+json": {
       "model_id": "f2fd77cf48624a27b24ac1bfa4ef3454",
       "version_major": 2,
       "version_minor": 0
      },
      "text/plain": [
       "Epoch 10/20:   0%|          | 0/4033 [00:00<?, ?it/s]"
      ]
     },
     "metadata": {},
     "output_type": "display_data"
    },
    {
     "data": {
      "application/vnd.jupyter.widget-view+json": {
       "model_id": "fc9ee1080b7741b8a137903c6d646ed7",
       "version_major": 2,
       "version_minor": 0
      },
      "text/plain": [
       "Epoch 11/20:   0%|          | 0/4033 [00:00<?, ?it/s]"
      ]
     },
     "metadata": {},
     "output_type": "display_data"
    },
    {
     "data": {
      "application/vnd.jupyter.widget-view+json": {
       "model_id": "b0c146dc3fab47ca8b4d1ce0acc1bb2b",
       "version_major": 2,
       "version_minor": 0
      },
      "text/plain": [
       "Epoch 12/20:   0%|          | 0/4033 [00:00<?, ?it/s]"
      ]
     },
     "metadata": {},
     "output_type": "display_data"
    },
    {
     "data": {
      "application/vnd.jupyter.widget-view+json": {
       "model_id": "f754a6424cc24d96910a49a2c55931ce",
       "version_major": 2,
       "version_minor": 0
      },
      "text/plain": [
       "Epoch 13/20:   0%|          | 0/4033 [00:00<?, ?it/s]"
      ]
     },
     "metadata": {},
     "output_type": "display_data"
    },
    {
     "data": {
      "application/vnd.jupyter.widget-view+json": {
       "model_id": "2993d23a0b8f4dd08da32bc825d7122f",
       "version_major": 2,
       "version_minor": 0
      },
      "text/plain": [
       "Epoch 14/20:   0%|          | 0/4033 [00:00<?, ?it/s]"
      ]
     },
     "metadata": {},
     "output_type": "display_data"
    },
    {
     "data": {
      "application/vnd.jupyter.widget-view+json": {
       "model_id": "73df4bd995524753a4253e4e26f81843",
       "version_major": 2,
       "version_minor": 0
      },
      "text/plain": [
       "Epoch 15/20:   0%|          | 0/4033 [00:00<?, ?it/s]"
      ]
     },
     "metadata": {},
     "output_type": "display_data"
    },
    {
     "data": {
      "application/vnd.jupyter.widget-view+json": {
       "model_id": "d6a10db0d34f4f669cc69e8c08758af4",
       "version_major": 2,
       "version_minor": 0
      },
      "text/plain": [
       "Epoch 16/20:   0%|          | 0/4033 [00:00<?, ?it/s]"
      ]
     },
     "metadata": {},
     "output_type": "display_data"
    },
    {
     "data": {
      "application/vnd.jupyter.widget-view+json": {
       "model_id": "1ce55cbc1b8f4452a105a6ca2ca0583f",
       "version_major": 2,
       "version_minor": 0
      },
      "text/plain": [
       "Epoch 17/20:   0%|          | 0/4033 [00:00<?, ?it/s]"
      ]
     },
     "metadata": {},
     "output_type": "display_data"
    },
    {
     "data": {
      "application/vnd.jupyter.widget-view+json": {
       "model_id": "699c07ed0de14a319a8c2b5b20b3256c",
       "version_major": 2,
       "version_minor": 0
      },
      "text/plain": [
       "Epoch 18/20:   0%|          | 0/4033 [00:00<?, ?it/s]"
      ]
     },
     "metadata": {},
     "output_type": "display_data"
    },
    {
     "data": {
      "application/vnd.jupyter.widget-view+json": {
       "model_id": "4513e50f266c468b9e14986ea4976a7c",
       "version_major": 2,
       "version_minor": 0
      },
      "text/plain": [
       "Epoch 19/20:   0%|          | 0/4033 [00:00<?, ?it/s]"
      ]
     },
     "metadata": {},
     "output_type": "display_data"
    },
    {
     "data": {
      "application/vnd.jupyter.widget-view+json": {
       "model_id": "4acca4c6529b47dc9123a6c0f2ba949a",
       "version_major": 2,
       "version_minor": 0
      },
      "text/plain": [
       "Epoch 20/20:   0%|          | 0/4033 [00:00<?, ?it/s]"
      ]
     },
     "metadata": {},
     "output_type": "display_data"
    },
    {
     "data": {
      "image/png": "[encoded data removed]",
      "text/plain": [
       "<Figure size 640x480 with 2 Axes>"
      ]
     },
     "metadata": {},
     "output_type": "display_data"
    },
    {
     "name": "stdout",
     "output_type": "stream",
     "text": [
      "Best final score is 0.9030964182223565 with params {'ws': 11, 'hl': [128, 64, 32], 'max_iters': 20, 'lr': 0.001}\n"
     ]
    }
   ],
   "source": [
    "from tqdm.notebook import tqdm\n",
    "import torch.optim as optim\n",
    "from torch.utils.data import WeightedRandomSampler, DataLoader\n",
    "from sklearn.metrics import f1_score\n",
    "\n",
    "# Grid search\n",
    "window_sizes = [7, 11, 15]\n",
    "hl_sizes = [[128, 64, 32]]#, [128, 64]]\n",
    "max_iters = [20]\n",
    "learning_rates = [1e-3]\n",
    "best_score = -1\n",
    "filters = 32\n",
    "\n",
    "num_features = X.shape[1]-1\n",
    "num_classes = len(np.unique(Y))  # or Y.max() + 1\n",
    "\n",
    "for ws in window_sizes:\n",
    "    for hl in hl_sizes:\n",
    "        for epochs in max_iters:\n",
    "            for lr in learning_rates:\n",
    "                # Dataset instances\n",
    "                train_dataset = SlidingWindowProteinDataset(X[mask_train], Y[mask_train], window_size=ws, is_test = False)\n",
    "                val_dataset = SlidingWindowProteinDataset(X[mask_val], Y[mask_val], window_size=ws, is_test = False)\n",
    "                \n",
    "                train_loader = DataLoader(train_dataset, batch_size=128, shuffle=True)\n",
    "                val_loader = DataLoader(val_dataset, batch_size=128, shuffle=False)\n",
    "                \n",
    "                print(f\"Training the model with epochs {epochs}, window sizes {ws}, hidden layers {hl}, learning rate {lr}\")\n",
    "                model = CNNClassifier(\n",
    "                    in_channels=num_features,\n",
    "                    out_classes=num_classes,\n",
    "                    conv_filters=filters, \n",
    "                    hidden_sizes = hl\n",
    "                )\n",
    "                optimizer = optim.Adam(model.parameters(), lr=lr)\n",
    "                # class balance\n",
    "                # Compute class frequencies\n",
    "                class_counts = np.bincount(Y[mask_train])\n",
    "                class_weights = 1.0 / (class_counts + 1e-6)  # avoid div by zero\n",
    "                class_weights = class_weights / class_weights.sum()  # normalize\n",
    "                \n",
    "                # Convert to tensor\n",
    "                class_weights = torch.tensor(class_weights, dtype=torch.float32)\n",
    "                \n",
    "                # Use class_weights in loss\n",
    "                criterion = nn.CrossEntropyLoss(weight=class_weights)\n",
    "    \n",
    "                for epoch in range(epochs):\n",
    "                    model.train()\n",
    "                    running_loss = 0.0\n",
    "                    train_iterator = tqdm(train_loader, desc=f\"Epoch {epoch+1}/{epochs}\")\n",
    "                    for xb, yb in train_iterator:\n",
    "                        optimizer.zero_grad()\n",
    "                        preds = model(xb)\n",
    "                        loss = criterion(preds, yb)\n",
    "                        loss.backward()\n",
    "                        optimizer.step()\n",
    "                        \n",
    "                        running_loss += loss.item()\n",
    "                        train_iterator.set_postfix(loss=running_loss / (train_iterator.n + 1))\n",
    "                \n",
    "                # Validation loop should be here before concatenating preds/labels!\n",
    "                all_preds, all_labels = [], []\n",
    "                with torch.no_grad():\n",
    "                   for xb, yb in val_loader:\n",
    "                       out = model(xb)\n",
    "                       all_preds.append(out.argmax(dim=1).cpu())\n",
    "                       all_labels.append(yb.cpu())\n",
    "                all_preds = torch.cat(all_preds).numpy()\n",
    "                all_labels = torch.cat(all_labels).numpy()\n",
    "                score = f1_score(all_labels, all_preds, average='weighted')\n",
    "                if(score > best_score):\n",
    "                    print(f'New best score: {round(score,3)}')\n",
    "                    best_score = score\n",
    "                    best_params = {\n",
    "                        'ws':ws,\n",
    "                        'hl':hl,\n",
    "                        'max_iters':epochs,\n",
    "                        'lr':lr\n",
    "                    }\n",
    "            classes = ['H','E','C']\n",
    "            cm = sl.metrics.confusion_matrix(all_labels, all_preds)\n",
    "            cm = cm / cm.sum(axis=1, keepdims=True)\n",
    "                \n",
    "                \n",
    "            disp = sl.metrics.ConfusionMatrixDisplay(confusion_matrix = cm, \n",
    "                                                        display_labels = classes\n",
    "                                                        )\n",
    "            disp.plot()\n",
    "                \n",
    "            plt.show()\n",
    "\n",
    "print(f\"Best final score is {best_score} with params {best_params}\")\n",
    "\n"
   ]
  },
  {
   "cell_type": "markdown",
   "id": "2654667d-ccdb-43d1-93be-047ccb26c599",
   "metadata": {},
   "source": [
    "# BEST MODEL RETRAINING"
   ]
  },
  {
   "cell_type": "code",
   "execution_count": 26,
   "id": "f81e9ba2-b179-4191-9f18-32107482c4ce",
   "metadata": {},
   "outputs": [
    {
     "data": {
      "text/plain": [
       "(282, 41)"
      ]
     },
     "execution_count": 26,
     "metadata": {},
     "output_type": "execute_result"
    }
   ],
   "source": [
    "np.shape(X_test)"
   ]
  },
  {
   "cell_type": "code",
   "execution_count": 27,
   "id": "0b6a2fd3-eebf-457a-b1b4-08b959377cad",
   "metadata": {},
   "outputs": [
    {
     "name": "stdout",
     "output_type": "stream",
     "text": [
      "Training the final model with epochs 20, window sizes 11, hidden layers [128, 64, 32]\n"
     ]
    },
    {
     "data": {
      "application/vnd.jupyter.widget-view+json": {
       "model_id": "49110414bc9b4a0baf1694161c87e110",
       "version_major": 2,
       "version_minor": 0
      },
      "text/plain": [
       "Training Epochs:   0%|          | 0/20 [00:00<?, ?it/s]"
      ]
     },
     "metadata": {},
     "output_type": "display_data"
    },
    {
     "data": {
      "image/png": "[encoded data removed]",
      "text/plain": [
       "<Figure size 640x480 with 2 Axes>"
      ]
     },
     "metadata": {},
     "output_type": "display_data"
    }
   ],
   "source": [
    "from tqdm.notebook import trange\n",
    "from sklearn.metrics import accuracy_score \n",
    "\n",
    "device = \"cuda:0\" if torch.cuda.is_available() else \"cpu\"\n",
    "# retrieve best params\n",
    "ws = best_params['ws']\n",
    "hl = best_params['hl']\n",
    "mi = best_params['max_iters'] \n",
    "lr = best_params['lr']\n",
    "\n",
    "losses = []\n",
    "\n",
    "# Dataset instances\n",
    "train_dataset = SlidingWindowProteinDataset(X[mask_train], Y[mask_train], window_size=ws, is_test = False)\n",
    "val_dataset = SlidingWindowProteinDataset(X[mask_val], Y[mask_val], window_size=ws, is_test = False)\n",
    "test_dataset = SlidingWindowProteinDataset(X_test, Y_test, window_size=ws, is_test= True)\n",
    "\n",
    "train_loader = DataLoader(train_dataset, batch_size=128, shuffle=True)\n",
    "val_loader = DataLoader(val_dataset, batch_size=128, shuffle=False)\n",
    "test_loader = DataLoader(test_dataset, batch_size = 282, shuffle = False)\n",
    "\n",
    "            \n",
    "print(f\"Training the final model with epochs {epochs}, window sizes {ws}, hidden layers {hl}\")\n",
    "best_model = CNNClassifier(\n",
    "    in_channels=num_features,\n",
    "    out_classes=num_classes,\n",
    "    conv_filters=filters,\n",
    "    hidden_sizes = hl\n",
    "    )\n",
    "best_model.to(device)\n",
    "\n",
    "optimizer = optim.Adam(best_model.parameters(), lr=lr)\n",
    "criterion = nn.CrossEntropyLoss()\n",
    "\n",
    "epoch_iterator = trange(mi, desc=\"Training Epochs\")\n",
    "\n",
    "train_losses = []\n",
    "val_losses = []\n",
    "test_accuracies = []\n",
    "\n",
    "for i in epoch_iterator:\n",
    "    best_model.train()\n",
    "    running_loss = 0.0\n",
    "\n",
    "    losses = []\n",
    "    for xb, yb in train_loader:\n",
    "        xb, yb = xb.to(device), yb.to(device)\n",
    "        optimizer.zero_grad()\n",
    "        preds = best_model(xb)\n",
    "        loss = criterion(preds, yb)\n",
    "        losses.append(loss.item())\n",
    "        loss.backward()\n",
    "        optimizer.step()\n",
    "        running_loss += loss.item()\n",
    "    \n",
    "    avg_loss = running_loss / len(train_loader)\n",
    "    train_losses.append(avg_loss)\n",
    "    losses = []\n",
    "    running_loss = 0.0\n",
    "    \n",
    "    # Validation\n",
    "    all_preds, all_labels = [], []\n",
    "    best_model.eval()\n",
    "    with torch.no_grad():\n",
    "        for xb, yb in val_loader:\n",
    "            xb, yb = xb.to(device), yb.to(device)\n",
    "            out = best_model(xb)\n",
    "            all_preds.append(out.argmax(dim=1).cpu())\n",
    "            all_labels.append(yb.cpu())\n",
    "            loss = criterion(out, yb)\n",
    "            losses.append(loss.item())\n",
    "            running_loss += loss.item()\n",
    "\n",
    "    #score = f1_score(all_labels, all_preds, average='weighted')\n",
    "    avg_loss = running_loss / len(val_loader)\n",
    "    val_losses.append(avg_loss)\n",
    "    #epoch_iterator.set_postfix(loss=avg_loss, f1=score)\n",
    "    \n",
    "# Test evaluation\n",
    "best_model.eval()\n",
    "test_preds, test_labels = [], []\n",
    "with torch.no_grad():\n",
    "    for xb, yb in test_loader:\n",
    "        xb, yb = xb.to(device), yb.to(device)\n",
    "        out = best_model(xb)\n",
    "        test_preds.append(out.argmax(dim=1).cpu())\n",
    "        test_labels.append(yb.cpu())\n",
    "\n",
    "# concatenate into one long vector\n",
    "test_preds = torch.cat(test_preds).numpy()\n",
    "test_labels = torch.cat(test_labels).numpy()\n",
    "\n",
    "cm = sl.metrics.confusion_matrix(test_labels,test_preds)\n",
    "cm = cm / cm.sum(axis=1, keepdims=True)\n",
    "\n",
    "classes = ['H','E','C']\n",
    "disp = sl.metrics.ConfusionMatrixDisplay(confusion_matrix = cm, \n",
    "                                        display_labels = classes\n",
    "                                        )\n",
    "disp.plot()\n",
    "\n",
    "plt.show()"
   ]
  },
  {
   "cell_type": "code",
   "execution_count": 28,
   "id": "81da7f97-b6ed-4263-b40a-9bf918317d5e",
   "metadata": {},
   "outputs": [
    {
     "data": {
      "text/plain": [
       "0.3546099290780142"
      ]
     },
     "execution_count": 28,
     "metadata": {},
     "output_type": "execute_result"
    }
   ],
   "source": [
    "len(np.where(test_preds == test_labels))/len(test_dataset)*100"
   ]
  },
  {
   "cell_type": "code",
   "execution_count": 30,
   "id": "42ae9ed9-9a28-46a4-a3c1-b4ca0296ad27",
   "metadata": {},
   "outputs": [
    {
     "data": {
      "image/png": "[encoded data removed]",
      "text/plain": [
       "<Figure size 640x480 with 1 Axes>"
      ]
     },
     "metadata": {},
     "output_type": "display_data"
    }
   ],
   "source": [
    "arr_epochs = np.arange(20)\n",
    "plt.plot(arr_epochs, train_losses, label = 'Train loss')\n",
    "plt.plot(arr_epochs, val_losses, label = 'Validation loss')\n",
    "plt.legend()\n",
    "plt.show()\n",
    "\n"
   ]
  },
  {
   "cell_type": "code",
   "execution_count": 32,
   "id": "e93a30c9-5dc2-4a66-bccc-101734b619e0",
   "metadata": {},
   "outputs": [
    {
     "name": "stdout",
     "output_type": "stream",
     "text": [
      "(array([0, 1, 2]), array([106,  49, 127]))\n"
     ]
    }
   ],
   "source": [
    "print(np.unique(test_labels, return_counts = True))"
   ]
  },
  {
   "cell_type": "code",
   "execution_count": 33,
   "id": "21bbd2aa-c98f-4c0d-bfd6-83b8f80ccabc",
   "metadata": {},
   "outputs": [],
   "source": [
    "import numpy as np\n",
    "import matplotlib.pyplot as plt\n",
    "\n",
    "def plot_secondary_structure_multirow(real, pred, n_rows=4):\n",
    "    assert len(real) == len(pred), \"Sequences must be the same length\"\n",
    "    length = len(real)\n",
    "    colors = {0: 'blue', 1: 'orange', 2: 'green'}\n",
    "    class_names = {0: 'H (Helix)', 1: 'E (Sheet)', 2: 'C (Coil)'}\n",
    "    \n",
    "    # Calculate length per row (ceil division)\n",
    "    row_len = (length + n_rows - 1) // n_rows\n",
    "    \n",
    "    fig, axes = plt.subplots(n_rows, 1, figsize=(row_len / 5, 3 * n_rows), sharex=False)\n",
    "    if n_rows == 1:\n",
    "        axes = [axes]\n",
    "    \n",
    "    for r in range(n_rows):\n",
    "        ax = axes[r]\n",
    "        start = r * row_len\n",
    "        end = min(start + row_len, length)\n",
    "        \n",
    "        segment_real = real[start:end]\n",
    "        segment_pred = pred[start:end]\n",
    "        segment_len = end - start\n",
    "        \n",
    "        mismatch = (np.array(segment_real) != np.array(segment_pred))\n",
    "        \n",
    "        # Red background on mismatch\n",
    "        for i in range(segment_len):\n",
    "            if mismatch[i]:\n",
    "                ax.axvspan(i, i + 1, color='red', alpha=0.3)\n",
    "        \n",
    "        # Real sequence bars (top)\n",
    "        for i, val in enumerate(segment_real):\n",
    "            ax.bar(i, 1, color=colors[val], edgecolor='black', align='edge')\n",
    "        \n",
    "        # Predicted sequence bars (bottom)\n",
    "        for i, val in enumerate(segment_pred):\n",
    "            ax.bar(i, 0.4, color=colors[val], edgecolor='black', align='edge', bottom=-0.5)\n",
    "        \n",
    "        ax.set_ylim(-1, 1.2)\n",
    "        ax.set_xlim(0, segment_len)\n",
    "        ax.set_yticks([0, -0.3])\n",
    "        ax.set_yticklabels(['Real', 'Predicted'])\n",
    "        ax.set_xticks(np.arange(0, segment_len, max(1, segment_len // 10)))\n",
    "        ax.set_ylabel(f'Row {r+1}')\n",
    "    \n",
    "    axes[-1].set_xlabel('Residue position (per row)')\n",
    "    fig.suptitle('Secondary Structure Prediction vs Real (4 rows)')\n",
    "    \n",
    "    # Create legend\n",
    "    legend_patches = [plt.Line2D([0], [0], color=colors[k], lw=8, label=class_names[k]) for k in colors]\n",
    "    legend_patches.append(plt.Rectangle((0,0),1,1, color='red', alpha=0.3, label='Mismatch'))\n",
    "    axes[0].legend(handles=legend_patches, loc='upper right', bbox_to_anchor=(1.15, 1))\n",
    "    \n",
    "    plt.tight_layout(rect=[0, 0, 1, 0.96])\n",
    "    plt.savefig('pred_seq.jpg')\n",
    "    plt.show()\n",
    "\n"
   ]
  },
  {
   "cell_type": "code",
   "execution_count": 34,
   "id": "cc415ab9-cb01-4998-81f0-7080aff21c93",
   "metadata": {},
   "outputs": [
    {
     "data": {
      "image/png": "[encoded data removed]",
      "text/plain": [
       "<Figure size 1420x1200 with 4 Axes>"
      ]
     },
     "metadata": {},
     "output_type": "display_data"
    }
   ],
   "source": [
    "plot_secondary_structure_multirow(test_labels, test_preds)"
   ]
  },
  {
   "cell_type": "code",
   "execution_count": 35,
   "id": "f0b897cf-2fd4-4eed-8424-a7b06d3c2b49",
   "metadata": {},
   "outputs": [],
   "source": [
    "best_model.eval()\n",
    "all_preds, all_labels, all_probs = [], [], []\n",
    "with torch.no_grad():\n",
    "    for xb, yb in test_loader:\n",
    "        xb, yb = xb.to(device), yb.to(device)\n",
    "        out = best_model(xb)\n",
    "        probs = torch.softmax(out, dim = 1)\n",
    "        all_preds.append(out.argmax(dim=1).cpu())\n",
    "        all_labels.append(yb.cpu())\n",
    "        all_probs.append(probs.cpu())\n",
    "        loss = criterion(out, yb)\n",
    "        losses.append(loss.item())\n",
    "        running_loss += loss.item()\n",
    "            \n",
    "        \n",
    "            \n",
    "    \n",
    "    all_preds = torch.cat(all_preds).numpy()\n",
    "    all_labels = torch.cat(all_labels).numpy()\n",
    "    all_probs = torch.cat(all_probs).numpy()\n"
   ]
  },
  {
   "cell_type": "code",
   "execution_count": 36,
   "id": "e46932af-78e0-4428-b9b6-1b9a76355e60",
   "metadata": {},
   "outputs": [
    {
     "data": {
      "text/plain": [
       "array([0.63832617, 0.67333305, 0.740473  , 0.75655955, 0.6179732 ,\n",
       "       0.6464192 , 0.65494096, 0.6970127 , 0.516194  , 0.5319912 ,\n",
       "       0.7127302 , 0.5787992 , 0.49810788, 0.47472188, 0.4488468 ,\n",
       "       0.41653466, 0.5961903 , 0.49256647, 0.46139708, 0.42810065,\n",
       "       0.43264773, 0.65194136, 0.4555981 , 0.63261056, 0.64940464,\n",
       "       0.58151174, 0.7810225 , 0.9354319 , 0.95192504, 0.9246741 ,\n",
       "       0.8717615 , 0.64810234, 0.47104788, 0.4702682 , 0.44807306,\n",
       "       0.45485258, 0.34748462, 0.36165363, 0.36918435, 0.44169748,\n",
       "       0.36878675, 0.38390914, 0.38774323, 0.3732873 , 0.4065656 ,\n",
       "       0.4565523 , 0.48105696, 0.4423054 , 0.6823875 , 0.87294805,\n",
       "       0.6970893 , 0.63212985, 0.7104499 , 0.83534807, 0.7791558 ,\n",
       "       0.6736506 , 0.5814216 , 0.63044524, 0.5341958 , 0.6306759 ,\n",
       "       0.5573878 , 0.44277385, 0.4260157 , 0.4362198 , 0.4226056 ,\n",
       "       0.48310816, 0.4569837 , 0.4755298 , 0.4449969 , 0.38507706,\n",
       "       0.42663333, 0.37895352, 0.40143448, 0.41650558, 0.34145316,\n",
       "       0.44277197, 0.48623326, 0.5255688 , 0.44814733, 0.4588008 ,\n",
       "       0.53870285, 0.6595432 , 0.6972214 , 0.5159951 , 0.4670495 ,\n",
       "       0.43653843, 0.380026  , 0.37477812, 0.44876006, 0.53762203,\n",
       "       0.58493674, 0.5656385 , 0.46033907, 0.50214875, 0.37742463,\n",
       "       0.4561837 , 0.47702333, 0.6497656 , 0.60421926, 0.5135338 ,\n",
       "       0.49594054, 0.47396886, 0.44596738, 0.48132953, 0.37572148,\n",
       "       0.39069164, 0.4452516 , 0.35095546, 0.37772408, 0.3723223 ,\n",
       "       0.48170763, 0.68865925, 0.5702704 , 0.5835484 , 0.48801813,\n",
       "       0.55828655, 0.5292272 , 0.6873782 , 0.65420055, 0.46449125,\n",
       "       0.47913486, 0.5153754 , 0.4402193 , 0.496409  , 0.4987074 ,\n",
       "       0.602613  , 0.80102724, 0.6350254 , 0.65826046, 0.7316071 ,\n",
       "       0.62240225, 0.6999599 , 0.7554826 , 0.70716494, 0.46930063,\n",
       "       0.4102539 , 0.40355673, 0.3962733 , 0.3725884 , 0.39935362,\n",
       "       0.37980834, 0.35602322, 0.37839055, 0.44214988, 0.5666862 ,\n",
       "       0.4639376 , 0.4313271 , 0.41942662, 0.48515812, 0.45967948,\n",
       "       0.55263025, 0.72420275, 0.72540754, 0.79739755, 0.729795  ,\n",
       "       0.5920881 , 0.47689512, 0.46884367, 0.45960534, 0.6197627 ,\n",
       "       0.7919192 , 0.73718804, 0.60577184, 0.5512046 , 0.44445744,\n",
       "       0.48775855, 0.36731997, 0.41409838, 0.35394356, 0.4269424 ,\n",
       "       0.34277648, 0.36578822, 0.40061304, 0.47255424, 0.437082  ,\n",
       "       0.4357436 , 0.40297657, 0.38825068, 0.381068  , 0.36592546,\n",
       "       0.3797122 , 0.37814772, 0.4036386 , 0.6370529 , 0.7816385 ,\n",
       "       0.47397688, 0.65942305, 0.5761964 , 0.6829152 , 0.4532642 ,\n",
       "       0.52296466, 0.5477632 , 0.52246207, 0.39273587, 0.4649123 ,\n",
       "       0.39396617, 0.3820288 , 0.38449898, 0.35804144, 0.513063  ,\n",
       "       0.35215667, 0.53689647, 0.79914343, 0.86018384, 0.7581728 ,\n",
       "       0.7154228 , 0.42038998, 0.41543624, 0.40476167, 0.36078128,\n",
       "       0.36929968, 0.3816532 , 0.504184  , 0.47248444, 0.4338566 ,\n",
       "       0.6985393 , 0.66166043, 0.44718885, 0.5119549 , 0.64485383,\n",
       "       0.4876357 , 0.44654664, 0.35412166, 0.422731  , 0.41021228,\n",
       "       0.44411412, 0.5136074 , 0.6080038 , 0.6657089 , 0.7081383 ,\n",
       "       0.6962027 , 0.5118706 , 0.36048132, 0.41362023, 0.39341053,\n",
       "       0.4216415 , 0.54637676, 0.4199762 , 0.43876886, 0.4886178 ,\n",
       "       0.5126959 , 0.49085847, 0.5142438 , 0.46521062, 0.4205925 ,\n",
       "       0.4457019 , 0.46594203, 0.40027538, 0.4846852 , 0.4800565 ,\n",
       "       0.5113904 , 0.53808606, 0.49790713, 0.44384563, 0.48392323,\n",
       "       0.7470744 , 0.7324975 , 0.7797796 , 0.7790525 , 0.6070037 ,\n",
       "       0.5863663 , 0.45063943, 0.49190825, 0.6485037 , 0.72668386,\n",
       "       0.5581984 , 0.6631627 , 0.62668943, 0.5816716 , 0.46239054,\n",
       "       0.4996587 , 0.46819302, 0.48672304, 0.48201028, 0.5266392 ,\n",
       "       0.64123803, 0.47901928, 0.5967386 , 0.93221575, 0.89890736,\n",
       "       0.85579604, 0.47801822], dtype=float32)"
      ]
     },
     "execution_count": 36,
     "metadata": {},
     "output_type": "execute_result"
    }
   ],
   "source": [
    "(all_probs.max(axis = 1))"
   ]
  },
  {
   "cell_type": "code",
   "execution_count": null,
   "id": "c58fc572-f806-4de4-b265-f58fdbd6d758",
   "metadata": {},
   "outputs": [],
   "source": [
    "len(np.where(all_labels == all_preds)[0]) / len(all_labels)"
   ]
  },
  {
   "cell_type": "code",
   "execution_count": null,
   "id": "a637bc88-b528-414d-8565-94c8287c46ad",
   "metadata": {},
   "outputs": [],
   "source": []
  },
  {
   "cell_type": "code",
   "execution_count": null,
   "id": "51c3e72f-f13b-404f-a1d1-689b25d6869c",
   "metadata": {},
   "outputs": [],
   "source": []
  }
 ],
 "metadata": {
  "kernelspec": {
   "display_name": "Python 3 (ipykernel)",
   "language": "python",
   "name": "python3"
  },
  "language_info": {
   "codemirror_mode": {
    "name": "ipython",
    "version": 3
   },
   "file_extension": ".py",
   "mimetype": "text/x-python",
   "name": "python",
   "nbconvert_exporter": "python",
   "pygments_lexer": "ipython3",
   "version": "3.11.13"
  }
 },
 "nbformat": 4,
 "nbformat_minor": 5
}
